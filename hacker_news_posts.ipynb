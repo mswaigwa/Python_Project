{
 "cells": [
  {
   "cell_type": "markdown",
   "metadata": {},
   "source": [
    "### A COMPARISON OF REACTIONS TO POSTS IN HACKERS NEWS"
   ]
  },
  {
   "cell_type": "markdown",
   "metadata": {},
   "source": [
    "The aim of this analysis was to find out which kind of posts receive more comments and points on average. A key factor that was considered was the time of post creation.\n",
    "\n",
    "The dataset includes posts from Hacker News' listings and are classified into two: ask posts and show posts. Ask posts ask the Hacker News community a specific question. On the other hand, show posts are submitted to show the Hacker News community a project, product, or just generally something interesting. \n",
    "\n",
    "The data can be found [here](https://www.kaggle.com/hacker-news/hacker-news-posts)."
   ]
  },
  {
   "cell_type": "code",
   "execution_count": 75,
   "metadata": {},
   "outputs": [],
   "source": [
    "from csv import reader "
   ]
  },
  {
   "cell_type": "code",
   "execution_count": 76,
   "metadata": {},
   "outputs": [],
   "source": [
    "# Opening and reading the source file\n",
    "\n",
    "opened_file =  open ('hacker_news.csv', encoding='utf8')\n",
    "read_file = reader (opened_file)\n",
    "hn = list (read_file)"
   ]
  },
  {
   "cell_type": "markdown",
   "metadata": {},
   "source": [
    "### Exploring the Data"
   ]
  },
  {
   "cell_type": "code",
   "execution_count": 77,
   "metadata": {},
   "outputs": [
    {
     "name": "stdout",
     "output_type": "stream",
     "text": [
      "[['id', 'title', 'url', 'num_points', 'num_comments', 'author', 'created_at'], ['12224879', 'Interactive Dynamic Video', 'http://www.interactivedynamicvideo.com/', '386', '52', 'ne0phyte', '8/4/2016 11:52'], ['10975351', 'How to Use Open Source and Shut the Fuck Up at the Same Time', 'http://hueniverse.com/2016/01/26/how-to-use-open-source-and-shut-the-fuck-up-at-the-same-time/', '39', '10', 'josep2', '1/26/2016 19:30'], ['11964716', \"Florida DJs May Face Felony for April Fools' Water Joke\", 'http://www.thewire.com/entertainment/2013/04/florida-djs-april-fools-water-joke/63798/', '2', '1', 'vezycash', '6/23/2016 22:20'], ['11919867', 'Technology ventures: From Idea to Enterprise', 'https://www.amazon.com/Technology-Ventures-Enterprise-Thomas-Byers/dp/0073523429', '3', '1', 'hswarna', '6/17/2016 0:01']]\n"
     ]
    }
   ],
   "source": [
    "#Displaying the first five rows\n",
    "\n",
    "first_five_rows = hn [:5]\n",
    "print (first_five_rows)"
   ]
  },
  {
   "cell_type": "code",
   "execution_count": 78,
   "metadata": {},
   "outputs": [
    {
     "name": "stdout",
     "output_type": "stream",
     "text": [
      "['id', 'title', 'url', 'num_points', 'num_comments', 'author', 'created_at']\n",
      "\n",
      "\n",
      "[['12224879', 'Interactive Dynamic Video', 'http://www.interactivedynamicvideo.com/', '386', '52', 'ne0phyte', '8/4/2016 11:52'], ['10975351', 'How to Use Open Source and Shut the Fuck Up at the Same Time', 'http://hueniverse.com/2016/01/26/how-to-use-open-source-and-shut-the-fuck-up-at-the-same-time/', '39', '10', 'josep2', '1/26/2016 19:30'], ['11964716', \"Florida DJs May Face Felony for April Fools' Water Joke\", 'http://www.thewire.com/entertainment/2013/04/florida-djs-april-fools-water-joke/63798/', '2', '1', 'vezycash', '6/23/2016 22:20'], ['11919867', 'Technology ventures: From Idea to Enterprise', 'https://www.amazon.com/Technology-Ventures-Enterprise-Thomas-Byers/dp/0073523429', '3', '1', 'hswarna', '6/17/2016 0:01'], ['10301696', 'Note by Note: The Making of Steinway L1037 (2007)', 'http://www.nytimes.com/2007/11/07/movies/07stein.html?_r=0', '8', '2', 'walterbell', '9/30/2015 4:12']]\n"
     ]
    }
   ],
   "source": [
    "#Removing the header row\n",
    "\n",
    "headers = hn [0]\n",
    "print (headers)\n",
    "print ('\\n')\n",
    "hn = hn [1:]\n",
    "print (hn [:5])"
   ]
  },
  {
   "cell_type": "markdown",
   "metadata": {},
   "source": [
    "### Cleaning and Preparing the Data\n",
    "Since we're only concerned with ask posts and show posts, whose titles begin with Ask HN or Show HN; we'll create new lists of lists containing just the data for those titles. "
   ]
  },
  {
   "cell_type": "code",
   "execution_count": 79,
   "metadata": {},
   "outputs": [
    {
     "name": "stdout",
     "output_type": "stream",
     "text": [
      "1744\n",
      "1162\n",
      "17194\n",
      "\n",
      "\n",
      "20100\n",
      "20100\n"
     ]
    }
   ],
   "source": [
    "ask_posts = []\n",
    "show_posts = []\n",
    "other_posts = []\n",
    "\n",
    "for row in hn:\n",
    "    title = row [1]\n",
    "    title = title.lower () #uniformity for efficient analysis of string data\n",
    "                              \n",
    "    if title.startswith ('ask hn'):\n",
    "        ask_posts.append (row)\n",
    "        \n",
    "    elif title.startswith ('show hn'):\n",
    "        show_posts.append (row)\n",
    "        \n",
    "    else:\n",
    "        other_posts.append (row)\n",
    "        \n",
    "n_ask_posts = len (ask_posts)\n",
    "print (n_ask_posts) \n",
    "\n",
    "n_show_posts = len (show_posts)\n",
    "print (n_show_posts)\n",
    "\n",
    "n_other_posts = len (other_posts)\n",
    "print (n_other_posts)\n",
    "print ('\\n')\n",
    "\n",
    "#Verifying the lengths\n",
    "print (n_show_posts + n_ask_posts + n_other_posts)\n",
    "print (len (hn))"
   ]
  },
  {
   "cell_type": "markdown",
   "metadata": {
    "collapsed": true
   },
   "source": [
    "### Analyzing the Data\n",
    "\n",
    "\n",
    "#### 1. Which category of posts received the most comments on average?"
   ]
  },
  {
   "cell_type": "code",
   "execution_count": 80,
   "metadata": {},
   "outputs": [
    {
     "name": "stdout",
     "output_type": "stream",
     "text": [
      "14.038417431192661\n"
     ]
    }
   ],
   "source": [
    "total_ask_comments = 0\n",
    "\n",
    "for row in ask_posts:\n",
    "    comments = int (row[4])\n",
    "    total_ask_comments = total_ask_comments + comments\n",
    "\n",
    "avg_ask_comments = total_ask_comments/n_ask_posts\n",
    "print (avg_ask_comments)\n",
    "     "
   ]
  },
  {
   "cell_type": "code",
   "execution_count": 81,
   "metadata": {},
   "outputs": [
    {
     "name": "stdout",
     "output_type": "stream",
     "text": [
      "10.31669535283993\n"
     ]
    }
   ],
   "source": [
    "total_show_comments = 0\n",
    "\n",
    "for row in show_posts:\n",
    "    comments = int (row[4])\n",
    "    total_show_comments = total_show_comments + comments\n",
    "    \n",
    "avg_show_comments = total_show_comments/n_show_posts\n",
    "print (avg_show_comments)   "
   ]
  },
  {
   "cell_type": "markdown",
   "metadata": {},
   "source": [
    "#### Conclusion 1:\n",
    "From the above numbers, on average, ask posts receive more comments than show posts. "
   ]
  },
  {
   "cell_type": "markdown",
   "metadata": {},
   "source": [
    "#### 2. What is the relationship between the time that an ask  post is created and the number of comments it attracts?"
   ]
  },
  {
   "cell_type": "markdown",
   "metadata": {},
   "source": [
    "First, isolate the two columns that are relevant at this stage('created_at' and 'num_comments') :"
   ]
  },
  {
   "cell_type": "code",
   "execution_count": 82,
   "metadata": {},
   "outputs": [
    {
     "name": "stdout",
     "output_type": "stream",
     "text": [
      "[['8/16/2016 9:55', 6], ['11/22/2015 13:43', 29], ['5/2/2016 10:14', 1], ['8/2/2016 14:20', 3], ['10/15/2015 16:38', 17]]\n"
     ]
    }
   ],
   "source": [
    "result_list = []\n",
    "\n",
    "for row in ask_posts:\n",
    "    post_time = row [-1]\n",
    "    comments = int (row[4])\n",
    "    comments_time = [post_time, comments]\n",
    "    result_list.append (comments_time)\n",
    "\n",
    "print (result_list[:5])    "
   ]
  },
  {
   "cell_type": "markdown",
   "metadata": {},
   "source": [
    "Second, extract hours from dates :"
   ]
  },
  {
   "cell_type": "code",
   "execution_count": 83,
   "metadata": {},
   "outputs": [],
   "source": [
    "from datetime import datetime as dt"
   ]
  },
  {
   "cell_type": "code",
   "execution_count": 84,
   "metadata": {},
   "outputs": [
    {
     "name": "stdout",
     "output_type": "stream",
     "text": [
      "[['09', 6], ['13', 29], ['10', 1], ['14', 3], ['16', 17]]\n"
     ]
    }
   ],
   "source": [
    "str_date_format = '%m/%d/%Y %H:%M' \n",
    "    \n",
    "#change string date to datetime object\n",
    "for row in result_list:\n",
    "    post_time = row [0]\n",
    "    post_time_object = dt.strptime (post_time, str_date_format)\n",
    "\n",
    "#extract 'hour' from datetime object    \n",
    "    post_hour = dt.strftime (post_time_object, '%H')\n",
    "    row [0] = post_hour\n",
    "    \n",
    "print (result_list [:5])   "
   ]
  },
  {
   "cell_type": "markdown",
   "metadata": {},
   "source": [
    "Third, analyze the number of ask posts created per hour, alongside the number of comments received :"
   ]
  },
  {
   "cell_type": "code",
   "execution_count": 85,
   "metadata": {},
   "outputs": [
    {
     "name": "stdout",
     "output_type": "stream",
     "text": [
      "{'09': 45, '13': 85, '10': 59, '14': 107, '16': 108, '23': 68, '12': 73, '17': 100, '15': 116, '21': 109, '20': 80, '02': 58, '18': 109, '03': 54, '05': 46, '19': 110, '01': 60, '22': 71, '08': 48, '04': 47, '00': 55, '06': 44, '07': 34, '11': 58}\n",
      "\n",
      "\n",
      "{'09': 251, '13': 1253, '10': 793, '14': 1416, '16': 1814, '23': 543, '12': 687, '17': 1146, '15': 4477, '21': 1745, '20': 1722, '02': 1381, '18': 1439, '03': 421, '05': 464, '19': 1188, '01': 683, '22': 479, '08': 492, '04': 337, '00': 447, '06': 397, '07': 267, '11': 641}\n"
     ]
    }
   ],
   "source": [
    "counts_by_hour = {}\n",
    "comments_by_hour = {}\n",
    "\n",
    "for row in result_list:\n",
    "    hour = row [0]\n",
    "    comments = row [1]\n",
    "          \n",
    "    if hour not in counts_by_hour:\n",
    "        counts_by_hour [hour] = 1   \n",
    "        comments_by_hour [hour] = comments\n",
    "    else:  \n",
    "        counts_by_hour [hour] += 1  \n",
    "        comments_by_hour [hour] += comments\n",
    "        \n",
    "print (counts_by_hour)\n",
    "print ('\\n')\n",
    "print (comments_by_hour)"
   ]
  },
  {
   "cell_type": "markdown",
   "metadata": {},
   "source": [
    "Finally, calculate the average number of comments received on the ask posts created in each hour of the day :"
   ]
  },
  {
   "cell_type": "code",
   "execution_count": 86,
   "metadata": {},
   "outputs": [
    {
     "name": "stdout",
     "output_type": "stream",
     "text": [
      "[[38.5948275862069, '15'], [23.810344827586206, '02'], [21.525, '20'], [16.796296296296298, '16'], [16.009174311926607, '21'], [14.741176470588234, '13'], [13.440677966101696, '10'], [13.233644859813085, '14'], [13.20183486238532, '18'], [11.46, '17'], [11.383333333333333, '01'], [11.051724137931034, '11'], [10.8, '19'], [10.25, '08'], [10.08695652173913, '05'], [9.41095890410959, '12'], [9.022727272727273, '06'], [8.127272727272727, '00'], [7.985294117647059, '23'], [7.852941176470588, '07'], [7.796296296296297, '03'], [7.170212765957447, '04'], [6.746478873239437, '22'], [5.5777777777777775, '09']]\n"
     ]
    }
   ],
   "source": [
    "avg_by_hour = []\n",
    "\n",
    "for hour in comments_by_hour:\n",
    "    avg_comments_per_post= comments_by_hour[hour]/counts_by_hour [hour]\n",
    "    avg_by_hour.append ([hour, avg_comments_per_post])\n",
    "\n",
    "#Sorting the avg_by_hour list\n",
    "swap_avg_by_hour = []\n",
    "for row in avg_by_hour:\n",
    "    avg_comments_per_post = row [1]\n",
    "    hour = row [0]\n",
    "    swap_avg_by_hour.append ([avg_comments_per_post, hour])\n",
    "\n",
    "swap_avg_by_hour.sort (reverse = True)\n",
    "sorted_swap = swap_avg_by_hour\n",
    "print (sorted_swap) "
   ]
  },
  {
   "cell_type": "markdown",
   "metadata": {},
   "source": [
    "Top 5 hours with highest average comments :"
   ]
  },
  {
   "cell_type": "code",
   "execution_count": 87,
   "metadata": {},
   "outputs": [
    {
     "name": "stdout",
     "output_type": "stream",
     "text": [
      "Top 5 Hours for Ask Posts Comments\n",
      "\n",
      "\n",
      "[38.5948275862069, '15']\n",
      "[23.810344827586206, '02']\n",
      "[21.525, '20']\n",
      "[16.796296296296298, '16']\n",
      "[16.009174311926607, '21']\n"
     ]
    }
   ],
   "source": [
    "print (\"Top 5 Hours for Ask Posts Comments\")\n",
    "print ('\\n')\n",
    "for row in sorted_swap [:5]:\n",
    "    avg_comments_per_post = row [0]\n",
    "    hour = row [1]\n",
    "    print (row)"
   ]
  },
  {
   "cell_type": "markdown",
   "metadata": {},
   "source": [
    "Formatting hours :"
   ]
  },
  {
   "cell_type": "code",
   "execution_count": 88,
   "metadata": {},
   "outputs": [
    {
     "name": "stdout",
     "output_type": "stream",
     "text": [
      "[[23.810344827586206, '02:00'], [21.525, '20:00'], [16.796296296296298, '16:00'], [16.009174311926607, '21:00']]\n"
     ]
    }
   ],
   "source": [
    "str_hour_format = '%H'\n",
    "\n",
    "for row in sorted_swap:\n",
    "    hour = row [1]\n",
    "    hour_object = dt.strptime (hour, str_hour_format)\n",
    "    formatted_hour = dt.strftime (hour_object, '%H:%M')\n",
    "    row [1] = formatted_hour\n",
    "print (sorted_swap [1:5])"
   ]
  },
  {
   "cell_type": "markdown",
   "metadata": {},
   "source": [
    "Formatting the average comments per post :"
   ]
  },
  {
   "cell_type": "code",
   "execution_count": 89,
   "metadata": {},
   "outputs": [
    {
     "name": "stdout",
     "output_type": "stream",
     "text": [
      "[['23.81', '02:00'], ['21.52', '20:00'], ['16.80', '16:00'], ['16.01', '21:00']]\n"
     ]
    }
   ],
   "source": [
    "for row in sorted_swap:\n",
    "    avg_comments_per_post = row [0]\n",
    "    formatted_avgs = \"{:.2f}\".format(avg_comments_per_post)\n",
    "    row [0] = formatted_avgs\n",
    "print (sorted_swap [1:5])"
   ]
  },
  {
   "cell_type": "code",
   "execution_count": 90,
   "metadata": {},
   "outputs": [
    {
     "name": "stdout",
     "output_type": "stream",
     "text": [
      "15:00 : 38.59 average comments per post.\n",
      "02:00 : 23.81 average comments per post.\n",
      "20:00 : 21.52 average comments per post.\n",
      "16:00 : 16.80 average comments per post.\n",
      "21:00 : 16.01 average comments per post.\n",
      "13:00 : 14.74 average comments per post.\n",
      "10:00 : 13.44 average comments per post.\n",
      "14:00 : 13.23 average comments per post.\n",
      "18:00 : 13.20 average comments per post.\n",
      "17:00 : 11.46 average comments per post.\n",
      "01:00 : 11.38 average comments per post.\n",
      "11:00 : 11.05 average comments per post.\n",
      "19:00 : 10.80 average comments per post.\n",
      "08:00 : 10.25 average comments per post.\n",
      "05:00 : 10.09 average comments per post.\n",
      "12:00 : 9.41 average comments per post.\n",
      "06:00 : 9.02 average comments per post.\n",
      "00:00 : 8.13 average comments per post.\n",
      "23:00 : 7.99 average comments per post.\n",
      "07:00 : 7.85 average comments per post.\n",
      "03:00 : 7.80 average comments per post.\n",
      "04:00 : 7.17 average comments per post.\n",
      "22:00 : 6.75 average comments per post.\n",
      "09:00 : 5.58 average comments per post.\n"
     ]
    }
   ],
   "source": [
    "for row in sorted_swap:\n",
    "    final_avgs = row [0]\n",
    "    final_hours = row [1]\n",
    "    print (\"{} : {}\"\" average comments per post.\" \n",
    "           .format (final_hours, final_avgs))"
   ]
  },
  {
   "cell_type": "markdown",
   "metadata": {},
   "source": [
    "#### Conclusion 2:\n",
    "Based on the averages, the best time to create ask posts would be between 3:00 PM to 3:59 PM EST time. The least favorable time to create an ask post is between 9:00 AM to 9:59 AM. Each of these would be an hour later in CST as evident when you compare the two time zones as in below code :"
   ]
  },
  {
   "cell_type": "code",
   "execution_count": 91,
   "metadata": {},
   "outputs": [
    {
     "name": "stdout",
     "output_type": "stream",
     "text": [
      "2020-01-26 04:36:29 EST-0500\n",
      "2020-01-26 03:36:29 CST-0600\n"
     ]
    }
   ],
   "source": [
    "from pytz import timezone\n",
    "string_format = \"%Y-%m-%d %H:%M:%S %Z%z\"\n",
    "# Eastern time in UTC\n",
    "now_utc = dt.now(timezone('US/Eastern'))\n",
    "print (now_utc.strftime(string_format))\n",
    "# Convert to US/Central time zone\n",
    "now_central = now_utc.astimezone(timezone('US/Central'))\n",
    "print (now_central.strftime(string_format))"
   ]
  },
  {
   "cell_type": "markdown",
   "metadata": {},
   "source": [
    "#### 3. What category of posts received more points on average?"
   ]
  },
  {
   "cell_type": "code",
   "execution_count": 92,
   "metadata": {},
   "outputs": [
    {
     "name": "stdout",
     "output_type": "stream",
     "text": [
      "15.061926605504587\n"
     ]
    }
   ],
   "source": [
    "total_ask_points = 0\n",
    "\n",
    "for row in ask_posts:\n",
    "    points = int (row[3])\n",
    "    total_ask_points = total_ask_points + points\n",
    "\n",
    "avg_ask_points = total_ask_points/n_ask_posts\n",
    "print (avg_ask_points)"
   ]
  },
  {
   "cell_type": "code",
   "execution_count": 93,
   "metadata": {},
   "outputs": [
    {
     "name": "stdout",
     "output_type": "stream",
     "text": [
      "27.555077452667813\n"
     ]
    }
   ],
   "source": [
    "total_show_points = 0\n",
    "\n",
    "for row in show_posts:\n",
    "    points = int (row[3])\n",
    "    total_show_points = total_show_points + points\n",
    "    \n",
    "avg_show_points = total_show_points/n_show_posts\n",
    "print (avg_show_points)   "
   ]
  },
  {
   "cell_type": "markdown",
   "metadata": {},
   "source": [
    "#### Conclusion 3:\n",
    "From the above numbers, on average, show posts receive more points than ask posts. "
   ]
  },
  {
   "cell_type": "markdown",
   "metadata": {},
   "source": [
    "### Further Analysis\n",
    "#### 2. What is the relationship between the time that a show  post is created and the number of points it receives?"
   ]
  },
  {
   "cell_type": "code",
   "execution_count": 94,
   "metadata": {},
   "outputs": [
    {
     "name": "stdout",
     "output_type": "stream",
     "text": [
      "[['11/25/2015 14:03', 26], ['11/29/2015 22:46', 747], ['4/28/2016 18:05', 1], ['7/28/2016 7:11', 3], ['1/9/2016 20:45', 1]]\n"
     ]
    }
   ],
   "source": [
    "points_list = []\n",
    "\n",
    "for row in show_posts:\n",
    "    post_time = row [-1]\n",
    "    points = int (row[3])\n",
    "    points_time = [post_time, points]\n",
    "    points_list.append (points_time)\n",
    "\n",
    "print (points_list[:5])  "
   ]
  },
  {
   "cell_type": "markdown",
   "metadata": {},
   "source": [
    "Then extract hours from the dates :"
   ]
  },
  {
   "cell_type": "code",
   "execution_count": 95,
   "metadata": {},
   "outputs": [
    {
     "name": "stdout",
     "output_type": "stream",
     "text": [
      "[['14', 26], ['22', 747], ['18', 1], ['07', 3], ['20', 1]]\n"
     ]
    }
   ],
   "source": [
    "str_date_format = '%m/%d/%Y %H:%M' \n",
    "    \n",
    "#change string date to datetime object\n",
    "for row in points_list:\n",
    "    post_time = row [0]\n",
    "    post_time_object = dt.strptime (post_time, str_date_format)\n",
    "\n",
    "#extract 'hour' from datetime object    \n",
    "    post_hour = dt.strftime (post_time_object, '%H')\n",
    "    row [0] = post_hour\n",
    "    \n",
    "print (points_list [:5]) "
   ]
  },
  {
   "cell_type": "markdown",
   "metadata": {},
   "source": [
    "Calculate the number of show posts created per hour, along with the number of points they received :"
   ]
  },
  {
   "cell_type": "code",
   "execution_count": 96,
   "metadata": {},
   "outputs": [
    {
     "name": "stdout",
     "output_type": "stream",
     "text": [
      "{'14': 86, '22': 46, '18': 61, '07': 26, '20': 60, '05': 19, '16': 93, '19': 55, '15': 78, '03': 27, '17': 93, '06': 16, '02': 30, '13': 99, '08': 34, '21': 47, '04': 26, '11': 44, '12': 61, '23': 36, '09': 30, '01': 28, '10': 36, '00': 31}\n",
      "\n",
      "\n",
      "{'14': 2187, '22': 1856, '18': 2215, '07': 494, '20': 1819, '05': 104, '16': 2634, '19': 1702, '15': 2228, '03': 679, '17': 2521, '06': 375, '02': 340, '13': 2438, '08': 519, '21': 866, '04': 386, '11': 1480, '12': 2543, '23': 1526, '09': 553, '01': 700, '10': 681, '00': 1173}\n"
     ]
    }
   ],
   "source": [
    "counts_by_hour = {}\n",
    "points_by_hour = {}\n",
    "\n",
    "for row in points_list:\n",
    "    hour = row [0]\n",
    "    show_points = row [1]\n",
    "          \n",
    "    if hour not in counts_by_hour:\n",
    "        counts_by_hour [hour] = 1   \n",
    "        points_by_hour [hour] = show_points\n",
    "    else:  \n",
    "        counts_by_hour [hour] += 1  \n",
    "        points_by_hour [hour] += show_points\n",
    "        \n",
    "print (counts_by_hour)\n",
    "print ('\\n')\n",
    "print (points_by_hour)"
   ]
  },
  {
   "cell_type": "markdown",
   "metadata": {},
   "source": [
    "Get the average number of points received on the show posts created in each hour of the day :"
   ]
  },
  {
   "cell_type": "code",
   "execution_count": 97,
   "metadata": {},
   "outputs": [
    {
     "name": "stdout",
     "output_type": "stream",
     "text": [
      "[[42.388888888888886, '23'], [41.68852459016394, '12'], [40.34782608695652, '22'], [37.83870967741935, '00'], [36.31147540983606, '18'], [33.63636363636363, '11'], [30.945454545454545, '19'], [30.316666666666666, '20'], [28.564102564102566, '15'], [28.322580645161292, '16'], [27.107526881720432, '17'], [25.430232558139537, '14'], [25.14814814814815, '03'], [25.0, '01'], [24.626262626262626, '13'], [23.4375, '06'], [19.0, '07'], [18.916666666666668, '10'], [18.433333333333334, '09'], [18.425531914893618, '21'], [15.264705882352942, '08'], [14.846153846153847, '04'], [11.333333333333334, '02'], [5.473684210526316, '05']]\n"
     ]
    }
   ],
   "source": [
    "avg_points_by_hour = []\n",
    "\n",
    "for hour in points_by_hour:\n",
    "    avg_points_per_post= points_by_hour[hour]/counts_by_hour [hour]\n",
    "    avg_points_by_hour.append ([hour, avg_points_per_post])\n",
    "\n",
    "#sorting the swap_avg_points_by_hour    \n",
    "swap_avg_points_by_hour = []\n",
    "\n",
    "for row in avg_points_by_hour:\n",
    "    avg_points_per_post = row [1]\n",
    "    hour = row [0]\n",
    "    swap_avg_points_by_hour.append ([avg_points_per_post, hour])\n",
    "swap_avg_points_by_hour.sort (reverse = True)\n",
    "sorted_points = swap_avg_points_by_hour\n",
    "print (sorted_points)"
   ]
  },
  {
   "cell_type": "code",
   "execution_count": 98,
   "metadata": {},
   "outputs": [
    {
     "name": "stdout",
     "output_type": "stream",
     "text": [
      "Top 5 Hours for Show Posts Points\n",
      "\n",
      "\n",
      "[42.388888888888886, '23']\n",
      "[41.68852459016394, '12']\n",
      "[40.34782608695652, '22']\n",
      "[37.83870967741935, '00']\n",
      "[36.31147540983606, '18']\n"
     ]
    }
   ],
   "source": [
    "print (\"Top 5 Hours for Show Posts Points\")\n",
    "print ('\\n')\n",
    "for row in sorted_points [:5]:\n",
    "    avg_points_per_post  = row [0]\n",
    "    hour = row [1]\n",
    "    print (row)"
   ]
  },
  {
   "cell_type": "markdown",
   "metadata": {},
   "source": [
    "#### Conclusion 4:\n",
    "Based on the averages, the show posts that receive the most points are created between 11:00 PM to 11:59 PM EST. The posts that receive the least points are created between 5:00 AM to 5:59 AM EST. "
   ]
  },
  {
   "cell_type": "markdown",
   "metadata": {},
   "source": [
    "#### 5. What is the relationship between the time that an ask  post is created and the number of points it receives?"
   ]
  },
  {
   "cell_type": "code",
   "execution_count": 99,
   "metadata": {},
   "outputs": [
    {
     "name": "stdout",
     "output_type": "stream",
     "text": [
      "[['8/16/2016 9:55', 2], ['11/22/2015 13:43', 28], ['5/2/2016 10:14', 1], ['8/2/2016 14:20', 1], ['10/15/2015 16:38', 28]]\n"
     ]
    }
   ],
   "source": [
    "ask_points_list = []\n",
    "\n",
    "for row in ask_posts:\n",
    "    post_time = row [-1]\n",
    "    points = int (row[3])\n",
    "    ask_points_time = [post_time, points]\n",
    "    ask_points_list.append (ask_points_time)\n",
    "\n",
    "print (ask_points_list[:5])  "
   ]
  },
  {
   "cell_type": "code",
   "execution_count": 100,
   "metadata": {},
   "outputs": [
    {
     "name": "stdout",
     "output_type": "stream",
     "text": [
      "[['09', 2], ['13', 28], ['10', 1], ['14', 1], ['16', 28]]\n"
     ]
    }
   ],
   "source": [
    "str_date_format = '%m/%d/%Y %H:%M' \n",
    "    \n",
    "#change string date to datetime object\n",
    "for row in ask_points_list:\n",
    "    post_time = row [0]\n",
    "    post_time_object = dt.strptime (post_time, str_date_format)\n",
    "\n",
    "#extract 'hour' from datetime object    \n",
    "    post_hour = dt.strftime (post_time_object, '%H')\n",
    "    row [0] = post_hour\n",
    "    \n",
    "print (ask_points_list [:5])  "
   ]
  },
  {
   "cell_type": "code",
   "execution_count": 101,
   "metadata": {},
   "outputs": [
    {
     "name": "stdout",
     "output_type": "stream",
     "text": [
      "{'09': 45, '13': 85, '10': 59, '14': 107, '16': 108, '23': 68, '12': 73, '17': 100, '15': 116, '21': 109, '20': 80, '02': 58, '18': 109, '03': 54, '05': 46, '19': 110, '01': 60, '22': 71, '08': 48, '04': 47, '00': 55, '06': 44, '07': 34, '11': 58}\n",
      "\n",
      "\n",
      "{'09': 329, '13': 2062, '10': 1102, '14': 1282, '16': 2522, '23': 581, '12': 782, '17': 1941, '15': 3479, '21': 1721, '20': 1151, '02': 793, '18': 1741, '03': 374, '05': 552, '19': 1513, '01': 700, '22': 511, '08': 515, '04': 389, '00': 451, '06': 591, '07': 361, '11': 825}\n"
     ]
    }
   ],
   "source": [
    "counts_by_hour = {}\n",
    "ask_points_by_hour = {}\n",
    "\n",
    "for row in ask_points_list:\n",
    "    hour = row [0]\n",
    "    ask_points = row [1]\n",
    "          \n",
    "    if hour not in counts_by_hour:\n",
    "        counts_by_hour [hour] = 1   \n",
    "        ask_points_by_hour [hour] = ask_points\n",
    "    else:  \n",
    "        counts_by_hour [hour] += 1  \n",
    "        ask_points_by_hour [hour] += ask_points\n",
    "        \n",
    "print (counts_by_hour)\n",
    "print ('\\n')\n",
    "print (ask_points_by_hour)"
   ]
  },
  {
   "cell_type": "markdown",
   "metadata": {},
   "source": [
    "What is the average number of points received on the ask posts created in each hour of the day?"
   ]
  },
  {
   "cell_type": "code",
   "execution_count": 102,
   "metadata": {},
   "outputs": [
    {
     "name": "stdout",
     "output_type": "stream",
     "text": [
      "[[29.99137931034483, '15'], [24.258823529411764, '13'], [23.35185185185185, '16'], [19.41, '17'], [18.677966101694917, '10'], [15.972477064220184, '18'], [15.788990825688073, '21'], [14.3875, '20'], [14.224137931034482, '11'], [13.754545454545454, '19'], [13.672413793103448, '02'], [13.431818181818182, '06'], [12.0, '05'], [11.981308411214954, '14'], [11.666666666666666, '01'], [10.729166666666666, '08'], [10.712328767123287, '12'], [10.617647058823529, '07'], [8.544117647058824, '23'], [8.27659574468085, '04'], [8.2, '00'], [7.311111111111111, '09'], [7.197183098591549, '22'], [6.925925925925926, '03']]\n"
     ]
    }
   ],
   "source": [
    "avg_ask_points_by_hour = []\n",
    "\n",
    "for hour in ask_points_by_hour:\n",
    "    ask_points_per_post= ask_points_by_hour[hour]/counts_by_hour [hour]\n",
    "    avg_ask_points_by_hour.append ([hour, ask_points_per_post])\n",
    "\n",
    "# sorting avg_ask_points_by_hour\n",
    "swap_ask_points_by_hour = []\n",
    "\n",
    "for row in avg_ask_points_by_hour:\n",
    "    ask_points_per_post = row [1]\n",
    "    hour = row [0]\n",
    "    swap_ask_points_by_hour.append ([ask_points_per_post, hour])\n",
    "swap_ask_points_by_hour.sort (reverse = True)\n",
    "sorted_ask_points = swap_ask_points_by_hour\n",
    "print (sorted_ask_points)"
   ]
  },
  {
   "cell_type": "code",
   "execution_count": 103,
   "metadata": {},
   "outputs": [
    {
     "name": "stdout",
     "output_type": "stream",
     "text": [
      "Top 5 Hours for Ask Posts Points\n",
      "\n",
      "\n",
      "[29.99137931034483, '15']\n",
      "[24.258823529411764, '13']\n",
      "[23.35185185185185, '16']\n",
      "[19.41, '17']\n",
      "[18.677966101694917, '10']\n"
     ]
    }
   ],
   "source": [
    "print (\"Top 5 Hours for Ask Posts Points\")\n",
    "print ('\\n')\n",
    "for row in sorted_ask_points [:5]:\n",
    "    ask_points_per_post = row [0]\n",
    "    hour = row [1]\n",
    "    print (row)"
   ]
  },
  {
   "cell_type": "markdown",
   "metadata": {},
   "source": [
    "#### 6. Other Posts"
   ]
  },
  {
   "cell_type": "code",
   "execution_count": 104,
   "metadata": {},
   "outputs": [
    {
     "name": "stdout",
     "output_type": "stream",
     "text": [
      "Other Posts Average Number of Comments :\n",
      "\n",
      "\n",
      "26.8730371059672\n"
     ]
    }
   ],
   "source": [
    "total_other_comments = 0\n",
    "\n",
    "for row in other_posts:\n",
    "    other_comments = int (row[4])\n",
    "    total_other_comments = total_other_comments + other_comments\n",
    "\n",
    "avg_other_comments = total_other_comments/n_other_posts\n",
    "\n",
    "print (\"Other Posts Average Number of Comments :\")\n",
    "print ('\\n')\n",
    "print (avg_other_comments)"
   ]
  },
  {
   "cell_type": "code",
   "execution_count": 105,
   "metadata": {},
   "outputs": [
    {
     "name": "stdout",
     "output_type": "stream",
     "text": [
      "Other Posts Average Number of Points :\n",
      "\n",
      "\n",
      "55.4067698034198\n"
     ]
    }
   ],
   "source": [
    "total_other_points = 0\n",
    "\n",
    "for row in other_posts:\n",
    "    other_points = int (row[3])\n",
    "    total_other_points = total_other_points + other_points\n",
    "\n",
    "avg_other_points = total_other_points/n_other_posts\n",
    "\n",
    "print (\"Other Posts Average Number of Points :\")\n",
    "print ('\\n')\n",
    "print (avg_other_points)"
   ]
  }
 ],
 "metadata": {
  "kernelspec": {
   "display_name": "Python 3",
   "language": "python",
   "name": "python3"
  },
  "language_info": {
   "codemirror_mode": {
    "name": "ipython",
    "version": 3
   },
   "file_extension": ".py",
   "mimetype": "text/x-python",
   "name": "python",
   "nbconvert_exporter": "python",
   "pygments_lexer": "ipython3",
   "version": "3.7.4"
  }
 },
 "nbformat": 4,
 "nbformat_minor": 2
}
